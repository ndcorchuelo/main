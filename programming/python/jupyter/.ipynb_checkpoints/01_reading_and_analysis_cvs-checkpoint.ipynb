{
 "cells": [
  {
   "cell_type": "code",
   "execution_count": 33,
   "metadata": {},
   "outputs": [],
   "source": [
    "import pandas as pd\n",
    "import numpy as np\n",
    "import os"
   ]
  },
  {
   "cell_type": "code",
   "execution_count": 4,
   "metadata": {},
   "outputs": [
    {
     "name": "stdout",
     "output_type": "stream",
     "text": [
      "C:\\Users\\nicolas.corchuelo\\OneDrive\\Professional Path\\Data Engineering\\git\\programming\\python\\jupyter\n"
     ]
    }
   ],
   "source": [
    "print(os.getcwd())"
   ]
  },
  {
   "cell_type": "code",
   "execution_count": 15,
   "metadata": {},
   "outputs": [
    {
     "name": "stdout",
     "output_type": "stream",
     "text": [
      "['.ipynb_checkpoints', '01_reading_and_analysis_cvs.ipynb']\n"
     ]
    }
   ],
   "source": [
    "print(os.listdir('.'))"
   ]
  },
  {
   "cell_type": "code",
   "execution_count": 34,
   "metadata": {},
   "outputs": [
    {
     "name": "stdout",
     "output_type": "stream",
     "text": [
      "C:\\Users\\nicolas.corchuelo\\OneDrive\\Professional Path\\Data Engineering\\git\\data\n",
      "['FactFinance2010.csv']\n"
     ]
    }
   ],
   "source": [
    "path = 'C:\\\\Users\\\\nicolas.corchuelo\\\\OneDrive\\\\Professional Path\\\\Data Engineering\\\\git\\\\data'\n",
    "os.chdir(path)\n",
    "\n",
    "print (os.getcwd())\n",
    "print(os.listdir('.'))"
   ]
  },
  {
   "cell_type": "code",
   "execution_count": 48,
   "metadata": {},
   "outputs": [
    {
     "data": {
      "text/html": [
       "<div>\n",
       "<style scoped>\n",
       "    .dataframe tbody tr th:only-of-type {\n",
       "        vertical-align: middle;\n",
       "    }\n",
       "\n",
       "    .dataframe tbody tr th {\n",
       "        vertical-align: top;\n",
       "    }\n",
       "\n",
       "    .dataframe thead th {\n",
       "        text-align: right;\n",
       "    }\n",
       "</style>\n",
       "<table border=\"1\" class=\"dataframe\">\n",
       "  <thead>\n",
       "    <tr style=\"text-align: right;\">\n",
       "      <th></th>\n",
       "      <th>Unnamed: 0</th>\n",
       "      <th>FullDateAlternateKey</th>\n",
       "      <th>OrganizationName</th>\n",
       "      <th>ScenarioName</th>\n",
       "      <th>AccountDescription</th>\n",
       "      <th>Amount</th>\n",
       "    </tr>\n",
       "  </thead>\n",
       "  <tbody>\n",
       "    <tr>\n",
       "      <th>0</th>\n",
       "      <td>0</td>\n",
       "      <td>2010-12-29</td>\n",
       "      <td>Northeast Division</td>\n",
       "      <td>Actual</td>\n",
       "      <td>Salaries</td>\n",
       "      <td>22080.00</td>\n",
       "    </tr>\n",
       "    <tr>\n",
       "      <th>1</th>\n",
       "      <td>1</td>\n",
       "      <td>2010-12-29</td>\n",
       "      <td>Northeast Division</td>\n",
       "      <td>Budget</td>\n",
       "      <td>Salaries</td>\n",
       "      <td>20200.00</td>\n",
       "    </tr>\n",
       "    <tr>\n",
       "      <th>2</th>\n",
       "      <td>2</td>\n",
       "      <td>2010-12-29</td>\n",
       "      <td>Northeast Division</td>\n",
       "      <td>Budget</td>\n",
       "      <td>Payroll Taxes</td>\n",
       "      <td>2000.00</td>\n",
       "    </tr>\n",
       "    <tr>\n",
       "      <th>3</th>\n",
       "      <td>3</td>\n",
       "      <td>2010-12-29</td>\n",
       "      <td>Northeast Division</td>\n",
       "      <td>Actual</td>\n",
       "      <td>Payroll Taxes</td>\n",
       "      <td>2208.00</td>\n",
       "    </tr>\n",
       "    <tr>\n",
       "      <th>4</th>\n",
       "      <td>4</td>\n",
       "      <td>2010-12-29</td>\n",
       "      <td>Northeast Division</td>\n",
       "      <td>Actual</td>\n",
       "      <td>Employee Benefits</td>\n",
       "      <td>1546.00</td>\n",
       "    </tr>\n",
       "    <tr>\n",
       "      <th>...</th>\n",
       "      <td>...</td>\n",
       "      <td>...</td>\n",
       "      <td>...</td>\n",
       "      <td>...</td>\n",
       "      <td>...</td>\n",
       "      <td>...</td>\n",
       "    </tr>\n",
       "    <tr>\n",
       "      <th>1125</th>\n",
       "      <td>1125</td>\n",
       "      <td>2010-12-29</td>\n",
       "      <td>Canadian Division</td>\n",
       "      <td>Actual</td>\n",
       "      <td>Partner Capital</td>\n",
       "      <td>400000.00</td>\n",
       "    </tr>\n",
       "    <tr>\n",
       "      <th>1126</th>\n",
       "      <td>1126</td>\n",
       "      <td>2010-12-29</td>\n",
       "      <td>Canadian Division</td>\n",
       "      <td>Actual</td>\n",
       "      <td>Additional Paid In Capital</td>\n",
       "      <td>51141.68</td>\n",
       "    </tr>\n",
       "    <tr>\n",
       "      <th>1127</th>\n",
       "      <td>1127</td>\n",
       "      <td>2010-12-29</td>\n",
       "      <td>Canadian Division</td>\n",
       "      <td>Actual</td>\n",
       "      <td>Prior Year Retained Earnings</td>\n",
       "      <td>121290.30</td>\n",
       "    </tr>\n",
       "    <tr>\n",
       "      <th>1128</th>\n",
       "      <td>1128</td>\n",
       "      <td>2010-12-29</td>\n",
       "      <td>Canadian Division</td>\n",
       "      <td>Actual</td>\n",
       "      <td>Current Retained Earnings</td>\n",
       "      <td>-32456.57</td>\n",
       "    </tr>\n",
       "    <tr>\n",
       "      <th>1129</th>\n",
       "      <td>1129</td>\n",
       "      <td>2010-12-29</td>\n",
       "      <td>Canadian Division</td>\n",
       "      <td>Actual</td>\n",
       "      <td>Current Installments of Long-term Debt</td>\n",
       "      <td>15668.04</td>\n",
       "    </tr>\n",
       "  </tbody>\n",
       "</table>\n",
       "<p>1130 rows × 6 columns</p>\n",
       "</div>"
      ],
      "text/plain": [
       "      Unnamed: 0 FullDateAlternateKey    OrganizationName ScenarioName  \\\n",
       "0              0           2010-12-29  Northeast Division       Actual   \n",
       "1              1           2010-12-29  Northeast Division       Budget   \n",
       "2              2           2010-12-29  Northeast Division       Budget   \n",
       "3              3           2010-12-29  Northeast Division       Actual   \n",
       "4              4           2010-12-29  Northeast Division       Actual   \n",
       "...          ...                  ...                 ...          ...   \n",
       "1125        1125           2010-12-29   Canadian Division       Actual   \n",
       "1126        1126           2010-12-29   Canadian Division       Actual   \n",
       "1127        1127           2010-12-29   Canadian Division       Actual   \n",
       "1128        1128           2010-12-29   Canadian Division       Actual   \n",
       "1129        1129           2010-12-29   Canadian Division       Actual   \n",
       "\n",
       "                          AccountDescription     Amount  \n",
       "0                                   Salaries   22080.00  \n",
       "1                                   Salaries   20200.00  \n",
       "2                              Payroll Taxes    2000.00  \n",
       "3                              Payroll Taxes    2208.00  \n",
       "4                          Employee Benefits    1546.00  \n",
       "...                                      ...        ...  \n",
       "1125                         Partner Capital  400000.00  \n",
       "1126              Additional Paid In Capital   51141.68  \n",
       "1127            Prior Year Retained Earnings  121290.30  \n",
       "1128               Current Retained Earnings  -32456.57  \n",
       "1129  Current Installments of Long-term Debt   15668.04  \n",
       "\n",
       "[1130 rows x 6 columns]"
      ]
     },
     "execution_count": 48,
     "metadata": {},
     "output_type": "execute_result"
    }
   ],
   "source": [
    "dffinance = pd.read_csv('FactFinance2010.csv', sep =',', index_col=False)\n",
    "\n",
    "print (dffinance)"
   ]
  }
 ],
 "metadata": {
  "kernelspec": {
   "display_name": "Python 3",
   "language": "python",
   "name": "python3"
  },
  "language_info": {
   "codemirror_mode": {
    "name": "ipython",
    "version": 3
   },
   "file_extension": ".py",
   "mimetype": "text/x-python",
   "name": "python",
   "nbconvert_exporter": "python",
   "pygments_lexer": "ipython3",
   "version": "3.8.5"
  }
 },
 "nbformat": 4,
 "nbformat_minor": 4
}
