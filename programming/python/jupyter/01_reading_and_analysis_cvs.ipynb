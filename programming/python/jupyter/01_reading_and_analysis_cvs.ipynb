{
 "cells": [
  {
   "cell_type": "code",
   "execution_count": 33,
   "metadata": {},
   "outputs": [],
   "source": [
    "import pandas as pd\n",
    "import numpy as np\n",
    "import os"
   ]
  },
  {
   "cell_type": "code",
   "execution_count": 4,
   "metadata": {},
   "outputs": [
    {
     "name": "stdout",
     "output_type": "stream",
     "text": [
      "C:\\Users\\nicolas.corchuelo\\OneDrive\\Professional Path\\Data Engineering\\git\\programming\\python\\jupyter\n"
     ]
    }
   ],
   "source": [
    "print(os.getcwd())"
   ]
  },
  {
   "cell_type": "code",
   "execution_count": 15,
   "metadata": {},
   "outputs": [
    {
     "name": "stdout",
     "output_type": "stream",
     "text": [
      "['.ipynb_checkpoints', '01_reading_and_analysis_cvs.ipynb']\n"
     ]
    }
   ],
   "source": [
    "print(os.listdir('.'))"
   ]
  },
  {
   "cell_type": "code",
   "execution_count": 34,
   "metadata": {},
   "outputs": [
    {
     "name": "stdout",
     "output_type": "stream",
     "text": [
      "C:\\Users\\nicolas.corchuelo\\OneDrive\\Professional Path\\Data Engineering\\git\\data\n",
      "['FactFinance2010.csv']\n"
     ]
    }
   ],
   "source": [
    "path = 'C:\\\\Users\\\\nicolas.corchuelo\\\\OneDrive\\\\Professional Path\\\\Data Engineering\\\\git\\\\data'\n",
    "os.chdir(path)\n",
    "\n",
    "print (os.getcwd())\n",
    "print(os.listdir('.'))"
   ]
  },
  {
   "cell_type": "code",
   "execution_count": 63,
   "metadata": {},
   "outputs": [
    {
     "data": {
      "text/plain": [
       "OrganizationName    ScenarioName\n",
       "Canadian Division   Actual          2502030.51\n",
       "                    Budget           420320.00\n",
       "Central Division    Actual           878374.00\n",
       "                    Budget           166620.00\n",
       "Northeast Division  Actual          1145213.00\n",
       "                    Budget           186930.00\n",
       "Northwest Division  Actual          1455403.00\n",
       "                    Budget           277990.00\n",
       "Southeast Division  Actual          2655171.00\n",
       "                    Budget           358960.00\n",
       "Southwest Division  Actual          1130503.00\n",
       "                    Budget           207370.00\n",
       "Name: Amount, dtype: float64"
      ]
     },
     "execution_count": 63,
     "metadata": {},
     "output_type": "execute_result"
    }
   ],
   "source": [
    "dffinance = pd.read_csv('FactFinance2010.csv', sep =',', index_col=0)\n",
    "\n",
    "dffinance['FullDateAlternateKey'] = pd.to_datetime(dffinance['FullDateAlternateKey'])\n",
    "\n",
    "dffinance.groupby(by = [\"OrganizationName\",\"ScenarioName\"])[\"Amount\"].sum()\n"
   ]
  },
  {
   "cell_type": "code",
   "execution_count": null,
   "metadata": {},
   "outputs": [],
   "source": []
  }
 ],
 "metadata": {
  "kernelspec": {
   "display_name": "Python 3",
   "language": "python",
   "name": "python3"
  },
  "language_info": {
   "codemirror_mode": {
    "name": "ipython",
    "version": 3
   },
   "file_extension": ".py",
   "mimetype": "text/x-python",
   "name": "python",
   "nbconvert_exporter": "python",
   "pygments_lexer": "ipython3",
   "version": "3.8.5"
  }
 },
 "nbformat": 4,
 "nbformat_minor": 4
}
